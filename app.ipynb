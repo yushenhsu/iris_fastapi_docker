{
 "cells": [
  {
   "cell_type": "code",
   "execution_count": 1,
   "id": "d5f54a81-72a7-46f6-9bd3-40d42ecf3a3a",
   "metadata": {},
   "outputs": [],
   "source": [
    "# app.py\n",
    "from fastapi import FastAPI\n",
    "from pydantic import BaseModel\n",
    "import joblib\n",
    "import numpy as np\n",
    "\n",
    "# 1. 初始化 FastAPI 應用\n",
    "app = FastAPI()\n",
    "\n",
    "# 2. 加載訓練好的模型\n",
    "model = joblib.load('iris_model.pkl')\n",
    "\n",
    "# 3. 定義數據模式\n",
    "class IrisData(BaseModel):\n",
    "    sepal_length: float\n",
    "    sepal_width: float\n",
    "    petal_length: float\n",
    "    petal_width: float\n",
    "\n",
    "# 4. 定義預測端點\n",
    "@app.post(\"/predict/\")\n",
    "async def predict(iris: IrisData):\n",
    "    data = np.array([[iris.sepal_length, iris.sepal_width, iris.petal_length, iris.petal_width]])\n",
    "    prediction = model.predict(data)\n",
    "    predicted_class = int(prediction[0])\n",
    "    return {\"predicted_class\": predicted_class}\n"
   ]
  }
 ],
 "metadata": {
  "kernelspec": {
   "display_name": "Python 3 (ipykernel)",
   "language": "python",
   "name": "python3"
  },
  "language_info": {
   "codemirror_mode": {
    "name": "ipython",
    "version": 3
   },
   "file_extension": ".py",
   "mimetype": "text/x-python",
   "name": "python",
   "nbconvert_exporter": "python",
   "pygments_lexer": "ipython3",
   "version": "3.9.12"
  }
 },
 "nbformat": 4,
 "nbformat_minor": 5
}
